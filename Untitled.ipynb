{
 "cells": [
  {
   "cell_type": "code",
   "execution_count": 22,
   "metadata": {},
   "outputs": [],
   "source": [
    "import pandas as pd\n",
    "df1 = pd.read_excel('/Users/jjcaine/Downloads/2018 Test Projections.xlsx', index_col='Rank', dtype=object)"
   ]
  },
  {
   "cell_type": "code",
   "execution_count": 27,
   "metadata": {},
   "outputs": [
    {
     "data": {
      "text/plain": [
       "Index(['Own', 'Round', 'Value', '$', 'Name', 'Inj', 'Team', 'Conf', 'Pos',\n",
       "       'Depth', 'g', 'm/g', 'p/g', '3/g', 'a/g', 's/g', 'b/g', 'ft%', 'fta/g',\n",
       "       'dr/g', 'or/g', 'to/g', '3%', '3a/g', 'adjfg%', 'fga/g', 'pV', '3V',\n",
       "       'aV', 'sV', 'bV'],\n",
       "      dtype='object')"
      ]
     },
     "execution_count": 27,
     "metadata": {},
     "output_type": "execute_result"
    }
   ],
   "source": [
    "df1.columns"
   ]
  },
  {
   "cell_type": "code",
   "execution_count": 26,
   "metadata": {},
   "outputs": [
    {
     "data": {
      "text/plain": [
       "'<table border=\"1\" class=\"dataframe table table-hover\">\\n  <thead>\\n    <tr style=\"text-align: right;\">\\n      <th></th>\\n      <th>Own</th>\\n      <th>Round</th>\\n      <th>Value</th>\\n      <th>$</th>\\n      <th>Name</th>\\n      <th>Inj</th>\\n      <th>Team</th>\\n      <th>Conf</th>\\n      <th>Pos</th>\\n      <th>Depth</th>\\n      <th>g</th>\\n      <th>m/g</th>\\n      <th>p/g</th>\\n      <th>3/g</th>\\n      <th>a/g</th>\\n      <th>s/g</th>\\n      <th>b/g</th>\\n      <th>ft%</th>\\n      <th>fta/g</th>\\n      <th>dr/g</th>\\n      <th>or/g</th>\\n      <th>to/g</th>\\n      <th>3%</th>\\n      <th>3a/g</th>\\n      <th>adjfg%</th>\\n      <th>fga/g</th>\\n      <th>pV</th>\\n      <th>3V</th>\\n      <th>aV</th>\\n      <th>sV</th>\\n      <th>bV</th>\\n    </tr>\\n    <tr>\\n      <th>Rank</th>\\n      <th></th>\\n      <th></th>\\n      <th></th>\\n      <th></th>\\n      <th></th>\\n      <th></th>\\n      <th></th>\\n      <th></th>\\n      <th></th>\\n      <th></th>\\n      <th></th>\\n      <th></th>\\n      <th></th>\\n      <th></th>\\n      <th></th>\\n      <th></th>\\n      <th></th>\\n      <th></th>\\n      <th></th>\\n      <th></th>\\n      <th></th>\\n      <th></th>\\n      <th></th>\\n      <th></th>\\n      <th></th>\\n      <th></th>\\n      <th></th>\\n      <th></th>\\n      <th></th>\\n      <th></th>\\n      <th></th>\\n    </tr>\\n  </thead>\\n  <tbody>\\n    <tr>\\n      <th>1</th>\\n      <td>NaN</td>\\n      <td>1</td>\\n      <td>1.52378</td>\\n      <td>88.9218</td>\\n      <td>Stephen Curry</td>\\n      <td>NaN</td>\\n      <td>GSW</td>\\n      <td>4</td>\\n      <td>G</td>\\n      <td>ST</td>\\n      <td>70.5</td>\\n      <td>33.4894</td>\\n      <td>25.9727</td>\\n      <td>4.54631</td>\\n      <td>6.09035</td>\\n      <td>1.48716</td>\\n      <td>0.144043</td>\\n      <td>0.906889</td>\\n      <td>4.89539</td>\\n      <td>4.35965</td>\\n      <td>0.739291</td>\\n      <td>3.18681</td>\\n      <td>0.440549</td>\\n      <td>10.3196</td>\\n      <td>0.626979</td>\\n      <td>17.1721</td>\\n      <td>2.19914</td>\\n      <td>3.51869</td>\\n      <td>1.59695</td>\\n      <td>1.34407</td>\\n      <td>-0.963821</td>\\n    </tr>\\n    <tr>\\n      <th>2</th>\\n      <td>NaN</td>\\n      <td>1</td>\\n      <td>1.17081</td>\\n      <td>72.7732</td>\\n      <td>Karl-Anthony Towns</td>\\n      <td>NaN</td>\\n      <td>MIN</td>\\n      <td>4</td>\\n      <td>C</td>\\n      <td>ST</td>\\n      <td>76</td>\\n      <td>35.4934</td>\\n      <td>23.5196</td>\\n      <td>1.47026</td>\\n      <td>2.64684</td>\\n      <td>0.675526</td>\\n      <td>1.35664</td>\\n      <td>0.882513</td>\\n      <td>5.72289</td>\\n      <td>9.70895</td>\\n      <td>2.90013</td>\\n      <td>1.96625</td>\\n      <td>0.423803</td>\\n      <td>3.46921</td>\\n      <td>0.604547</td>\\n      <td>15.2751</td>\\n      <td>1.76422</td>\\n      <td>0.0660353</td>\\n      <td>-0.113308</td>\\n      <td>-0.622785</td>\\n      <td>1.40065</td>\\n    </tr>\\n    <tr>\\n      <th>3</th>\\n      <td>NaN</td>\\n      <td>1</td>\\n      <td>1.04057</td>\\n      <td>66.8149</td>\\n      <td>Anthony Davis</td>\\n      <td>NaN</td>\\n      <td>NOR</td>\\n      <td>4</td>\\n      <td>F/C</td>\\n      <td>ST</td>\\n      <td>71</td>\\n      <td>36</td>\\n      <td>28.2734</td>\\n      <td>0.809437</td>\\n      <td>2.68338</td>\\n      <td>1.63028</td>\\n      <td>2.70697</td>\\n      <td>0.830302</td>\\n      <td>7.68599</td>\\n      <td>8.89254</td>\\n      <td>2.36387</td>\\n      <td>2.22331</td>\\n      <td>0.328016</td>\\n      <td>2.46768</td>\\n      <td>0.541174</td>\\n      <td>20.2261</td>\\n      <td>2.60703</td>\\n      <td>-0.675697</td>\\n      <td>-0.0951607</td>\\n      <td>1.69089</td>\\n      <td>4.03367</td>\\n    </tr>\\n    <tr>\\n      <th>4</th>\\n      <td>NaN</td>\\n      <td>1</td>\\n      <td>0.942046</td>\\n      <td>62.3074</td>\\n      <td>Kevin Durant</td>\\n      <td>NaN</td>\\n      <td>GSW</td>\\n      <td>4</td>\\n      <td>F</td>\\n      <td>ST</td>\\n      <td>66.5</td>\\n      <td>34</td>\\n      <td>25.7479</td>\\n      <td>2.32496</td>\\n      <td>5.13842</td>\\n      <td>0.753534</td>\\n      <td>1.44406</td>\\n      <td>0.892206</td>\\n      <td>5.77053</td>\\n      <td>6.37564</td>\\n      <td>0.381353</td>\\n      <td>2.95654</td>\\n      <td>0.413656</td>\\n      <td>5.62053</td>\\n      <td>0.588243</td>\\n      <td>17.5092</td>\\n      <td>2.15928</td>\\n      <td>1.02538</td>\\n      <td>1.12416</td>\\n      <td>-0.433747</td>\\n      <td>1.5711</td>\\n    </tr>\\n    <tr>\\n      <th>5</th>\\n      <td>NaN</td>\\n      <td>1</td>\\n      <td>0.925765</td>\\n      <td>61.5626</td>\\n      <td>Nikola Jokic</td>\\n      <td>NaN</td>\\n      <td>DEN</td>\\n      <td>4</td>\\n      <td>C</td>\\n      <td>ST</td>\\n      <td>71.5</td>\\n      <td>34</td>\\n      <td>20.281</td>\\n      <td>1.5935</td>\\n      <td>6.55035</td>\\n      <td>1.13336</td>\\n      <td>0.904476</td>\\n      <td>0.848354</td>\\n      <td>4.64</td>\\n      <td>8.99014</td>\\n      <td>2.62503</td>\\n      <td>2.93881</td>\\n      <td>0.407442</td>\\n      <td>3.91098</td>\\n      <td>0.572565</td>\\n      <td>14.2732</td>\\n      <td>1.19006</td>\\n      <td>0.204356</td>\\n      <td>1.82541</td>\\n      <td>0.486685</td>\\n      <td>0.518959</td>\\n    </tr>\\n  </tbody>\\n</table>'"
      ]
     },
     "execution_count": 26,
     "metadata": {},
     "output_type": "execute_result"
    }
   ],
   "source": [
    "df1.head(n=5).round(decimals=2).to_html(classes='table table-hover', escape=False)"
   ]
  },
  {
   "cell_type": "code",
   "execution_count": null,
   "metadata": {},
   "outputs": [],
   "source": []
  }
 ],
 "metadata": {
  "kernelspec": {
   "display_name": "Python 3",
   "language": "python",
   "name": "python3"
  },
  "language_info": {
   "codemirror_mode": {
    "name": "ipython",
    "version": 3
   },
   "file_extension": ".py",
   "mimetype": "text/x-python",
   "name": "python",
   "nbconvert_exporter": "python",
   "pygments_lexer": "ipython3",
   "version": "3.7.3"
  }
 },
 "nbformat": 4,
 "nbformat_minor": 2
}
